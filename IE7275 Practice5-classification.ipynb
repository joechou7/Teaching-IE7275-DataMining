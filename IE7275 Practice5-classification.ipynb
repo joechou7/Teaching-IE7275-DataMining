{
 "cells": [
  {
   "cell_type": "markdown",
   "metadata": {},
   "source": [
    "# IE7275 - Logistic Regression, Linear Discriminant Analysis, and SVM"
   ]
  },
  {
   "cell_type": "markdown",
   "metadata": {},
   "source": [
    "Note this codes for demonstration purpose in the course IE7275. \n",
    "\n",
    "By Yilin Yin and Chun-An Chou\n",
    "\n",
    "### We demonstrate how to apply logisitic regression for classification"
   ]
  },
  {
   "cell_type": "code",
   "execution_count": 53,
   "metadata": {},
   "outputs": [],
   "source": [
    "import requests\n",
    "from sklearn.linear_model import LogisticRegression\n",
    "from sklearn.model_selection import train_test_split\n",
    "import pandas as pd\n",
    "import io\n",
    "from sklearn.metrics import confusion_matrix"
   ]
  },
  {
   "cell_type": "code",
   "execution_count": 54,
   "metadata": {},
   "outputs": [],
   "source": [
    "# import data about Housing Conditions in Copenhagen online\n",
    "response = requests.get('https://data.princeton.edu/wws509/datasets/copen.dat')\n",
    "newdata = pd.read_csv(io.StringIO(response.text),delim_whitespace=True)\n",
    "\n",
    "# data rearrangement \n",
    "newdata =pd.get_dummies(newdata, columns=[\"housing\",\"influence\",\"contact\"])\n",
    "mapping = {'low': 1, 'medium': 2,'high': 3}\n",
    "newdata = newdata.replace({'satisfaction': mapping})"
   ]
  },
  {
   "cell_type": "code",
   "execution_count": 55,
   "metadata": {},
   "outputs": [
    {
     "data": {
      "text/html": [
       "<div>\n",
       "<style scoped>\n",
       "    .dataframe tbody tr th:only-of-type {\n",
       "        vertical-align: middle;\n",
       "    }\n",
       "\n",
       "    .dataframe tbody tr th {\n",
       "        vertical-align: top;\n",
       "    }\n",
       "\n",
       "    .dataframe thead th {\n",
       "        text-align: right;\n",
       "    }\n",
       "</style>\n",
       "<table border=\"1\" class=\"dataframe\">\n",
       "  <thead>\n",
       "    <tr style=\"text-align: right;\">\n",
       "      <th></th>\n",
       "      <th>satisfaction</th>\n",
       "      <th>n</th>\n",
       "      <th>housing_apartments</th>\n",
       "      <th>housing_atrium</th>\n",
       "      <th>housing_terraced</th>\n",
       "      <th>housing_tower</th>\n",
       "      <th>influence_high</th>\n",
       "      <th>influence_low</th>\n",
       "      <th>influence_medium</th>\n",
       "      <th>contact_high</th>\n",
       "      <th>contact_low</th>\n",
       "    </tr>\n",
       "  </thead>\n",
       "  <tbody>\n",
       "    <tr>\n",
       "      <td>1</td>\n",
       "      <td>1</td>\n",
       "      <td>21</td>\n",
       "      <td>0</td>\n",
       "      <td>0</td>\n",
       "      <td>0</td>\n",
       "      <td>1</td>\n",
       "      <td>0</td>\n",
       "      <td>1</td>\n",
       "      <td>0</td>\n",
       "      <td>0</td>\n",
       "      <td>1</td>\n",
       "    </tr>\n",
       "    <tr>\n",
       "      <td>2</td>\n",
       "      <td>2</td>\n",
       "      <td>21</td>\n",
       "      <td>0</td>\n",
       "      <td>0</td>\n",
       "      <td>0</td>\n",
       "      <td>1</td>\n",
       "      <td>0</td>\n",
       "      <td>1</td>\n",
       "      <td>0</td>\n",
       "      <td>0</td>\n",
       "      <td>1</td>\n",
       "    </tr>\n",
       "    <tr>\n",
       "      <td>3</td>\n",
       "      <td>3</td>\n",
       "      <td>28</td>\n",
       "      <td>0</td>\n",
       "      <td>0</td>\n",
       "      <td>0</td>\n",
       "      <td>1</td>\n",
       "      <td>0</td>\n",
       "      <td>1</td>\n",
       "      <td>0</td>\n",
       "      <td>0</td>\n",
       "      <td>1</td>\n",
       "    </tr>\n",
       "    <tr>\n",
       "      <td>4</td>\n",
       "      <td>1</td>\n",
       "      <td>14</td>\n",
       "      <td>0</td>\n",
       "      <td>0</td>\n",
       "      <td>0</td>\n",
       "      <td>1</td>\n",
       "      <td>0</td>\n",
       "      <td>1</td>\n",
       "      <td>0</td>\n",
       "      <td>1</td>\n",
       "      <td>0</td>\n",
       "    </tr>\n",
       "    <tr>\n",
       "      <td>5</td>\n",
       "      <td>2</td>\n",
       "      <td>19</td>\n",
       "      <td>0</td>\n",
       "      <td>0</td>\n",
       "      <td>0</td>\n",
       "      <td>1</td>\n",
       "      <td>0</td>\n",
       "      <td>1</td>\n",
       "      <td>0</td>\n",
       "      <td>1</td>\n",
       "      <td>0</td>\n",
       "    </tr>\n",
       "    <tr>\n",
       "      <td>...</td>\n",
       "      <td>...</td>\n",
       "      <td>...</td>\n",
       "      <td>...</td>\n",
       "      <td>...</td>\n",
       "      <td>...</td>\n",
       "      <td>...</td>\n",
       "      <td>...</td>\n",
       "      <td>...</td>\n",
       "      <td>...</td>\n",
       "      <td>...</td>\n",
       "      <td>...</td>\n",
       "    </tr>\n",
       "    <tr>\n",
       "      <td>68</td>\n",
       "      <td>2</td>\n",
       "      <td>5</td>\n",
       "      <td>0</td>\n",
       "      <td>0</td>\n",
       "      <td>1</td>\n",
       "      <td>0</td>\n",
       "      <td>1</td>\n",
       "      <td>0</td>\n",
       "      <td>0</td>\n",
       "      <td>0</td>\n",
       "      <td>1</td>\n",
       "    </tr>\n",
       "    <tr>\n",
       "      <td>69</td>\n",
       "      <td>3</td>\n",
       "      <td>11</td>\n",
       "      <td>0</td>\n",
       "      <td>0</td>\n",
       "      <td>1</td>\n",
       "      <td>0</td>\n",
       "      <td>1</td>\n",
       "      <td>0</td>\n",
       "      <td>0</td>\n",
       "      <td>0</td>\n",
       "      <td>1</td>\n",
       "    </tr>\n",
       "    <tr>\n",
       "      <td>70</td>\n",
       "      <td>1</td>\n",
       "      <td>5</td>\n",
       "      <td>0</td>\n",
       "      <td>0</td>\n",
       "      <td>1</td>\n",
       "      <td>0</td>\n",
       "      <td>1</td>\n",
       "      <td>0</td>\n",
       "      <td>0</td>\n",
       "      <td>1</td>\n",
       "      <td>0</td>\n",
       "    </tr>\n",
       "    <tr>\n",
       "      <td>71</td>\n",
       "      <td>2</td>\n",
       "      <td>6</td>\n",
       "      <td>0</td>\n",
       "      <td>0</td>\n",
       "      <td>1</td>\n",
       "      <td>0</td>\n",
       "      <td>1</td>\n",
       "      <td>0</td>\n",
       "      <td>0</td>\n",
       "      <td>1</td>\n",
       "      <td>0</td>\n",
       "    </tr>\n",
       "    <tr>\n",
       "      <td>72</td>\n",
       "      <td>3</td>\n",
       "      <td>13</td>\n",
       "      <td>0</td>\n",
       "      <td>0</td>\n",
       "      <td>1</td>\n",
       "      <td>0</td>\n",
       "      <td>1</td>\n",
       "      <td>0</td>\n",
       "      <td>0</td>\n",
       "      <td>1</td>\n",
       "      <td>0</td>\n",
       "    </tr>\n",
       "  </tbody>\n",
       "</table>\n",
       "<p>72 rows × 11 columns</p>\n",
       "</div>"
      ],
      "text/plain": [
       "    satisfaction   n  housing_apartments  housing_atrium  housing_terraced  \\\n",
       "1              1  21                   0               0                 0   \n",
       "2              2  21                   0               0                 0   \n",
       "3              3  28                   0               0                 0   \n",
       "4              1  14                   0               0                 0   \n",
       "5              2  19                   0               0                 0   \n",
       "..           ...  ..                 ...             ...               ...   \n",
       "68             2   5                   0               0                 1   \n",
       "69             3  11                   0               0                 1   \n",
       "70             1   5                   0               0                 1   \n",
       "71             2   6                   0               0                 1   \n",
       "72             3  13                   0               0                 1   \n",
       "\n",
       "    housing_tower  influence_high  influence_low  influence_medium  \\\n",
       "1               1               0              1                 0   \n",
       "2               1               0              1                 0   \n",
       "3               1               0              1                 0   \n",
       "4               1               0              1                 0   \n",
       "5               1               0              1                 0   \n",
       "..            ...             ...            ...               ...   \n",
       "68              0               1              0                 0   \n",
       "69              0               1              0                 0   \n",
       "70              0               1              0                 0   \n",
       "71              0               1              0                 0   \n",
       "72              0               1              0                 0   \n",
       "\n",
       "    contact_high  contact_low  \n",
       "1              0            1  \n",
       "2              0            1  \n",
       "3              0            1  \n",
       "4              1            0  \n",
       "5              1            0  \n",
       "..           ...          ...  \n",
       "68             0            1  \n",
       "69             0            1  \n",
       "70             1            0  \n",
       "71             1            0  \n",
       "72             1            0  \n",
       "\n",
       "[72 rows x 11 columns]"
      ]
     },
     "execution_count": 55,
     "metadata": {},
     "output_type": "execute_result"
    }
   ],
   "source": [
    "newdata"
   ]
  },
  {
   "cell_type": "code",
   "execution_count": 56,
   "metadata": {
    "scrolled": true
   },
   "outputs": [
    {
     "name": "stdout",
     "output_type": "stream",
     "text": [
      "[[1 2 5]\n",
      " [1 0 7]\n",
      " [1 2 3]]\n"
     ]
    }
   ],
   "source": [
    "# Impliment LR \n",
    "X = newdata[newdata.columns[1:13]]\n",
    "Y = newdata.iloc[:,0]\n",
    "\n",
    "X_train, X_test, y_train, y_test = train_test_split(\n",
    "X, Y, test_size=0.30, random_state=42)\n",
    "\n",
    "model = LogisticRegression(multi_class='multinomial', solver='lbfgs')\n",
    "\n",
    "clf = model.fit(X_train.iloc[:,1:11], y_train, sample_weight=X_train['n'])\n",
    "\n",
    "y_pred = clf.predict(X_test.iloc[:,1:11])\n",
    "\n",
    "print(confusion_matrix(y_test, y_pred))"
   ]
  },
  {
   "cell_type": "markdown",
   "metadata": {},
   "source": [
    "### We demonstrate how to apply LDA for classification"
   ]
  },
  {
   "cell_type": "code",
   "execution_count": 57,
   "metadata": {},
   "outputs": [],
   "source": [
    "from sklearn.discriminant_analysis import LinearDiscriminantAnalysis\n",
    "import numpy as np"
   ]
  },
  {
   "cell_type": "code",
   "execution_count": 58,
   "metadata": {},
   "outputs": [
    {
     "data": {
      "text/plain": [
       "array([[0.78203155, 0.21796845],\n",
       "       [0.49449211, 0.50550789],\n",
       "       [0.15236751, 0.84763249],\n",
       "       [0.31924493, 0.68075507],\n",
       "       [0.00402325, 0.99597675],\n",
       "       [0.0124668 , 0.9875332 ],\n",
       "       [0.05188913, 0.94811087],\n",
       "       [0.01554353, 0.98445647],\n",
       "       [0.29300716, 0.70699284],\n",
       "       [0.01956031, 0.98043969],\n",
       "       [0.3436552 , 0.6563448 ],\n",
       "       [0.11070233, 0.88929767],\n",
       "       [0.2371929 , 0.7628071 ],\n",
       "       [0.52865847, 0.47134153],\n",
       "       [0.8505169 , 0.1494831 ],\n",
       "       [0.80075893, 0.19924107],\n",
       "       [0.37757951, 0.62242049],\n",
       "       [0.95203727, 0.04796273],\n",
       "       [0.96165849, 0.03834151],\n",
       "       [0.66288177, 0.33711823],\n",
       "       [0.98387005, 0.01612995],\n",
       "       [0.97514892, 0.02485108],\n",
       "       [0.99644001, 0.00355999],\n",
       "       [0.97819391, 0.02180609]])"
      ]
     },
     "execution_count": 58,
     "metadata": {},
     "output_type": "execute_result"
    }
   ],
   "source": [
    "mydata = pd.read_csv('RidingMowers.csv')\n",
    "X = mydata[mydata.columns[0:2]]\n",
    "y = mydata.iloc[:,2]\n",
    "\n",
    "# Use LDA library \n",
    "clf = LinearDiscriminantAnalysis().fit(X, y)\n",
    "\n",
    "clf.predict_proba(X)"
   ]
  },
  {
   "cell_type": "code",
   "execution_count": 59,
   "metadata": {},
   "outputs": [
    {
     "data": {
      "text/plain": [
       "array([0.77200473, 0.63561679])"
      ]
     },
     "execution_count": 59,
     "metadata": {},
     "output_type": "execute_result"
    }
   ],
   "source": [
    "# manual LDA\n",
    "nonowndata = mydata[mydata.Ownership == 'Nonowner']\n",
    "owndata = mydata[mydata.Ownership == 'Owner']\n",
    "\n",
    "# compute sample means and variances for individual classes. \n",
    "mean_own = owndata.iloc[:,0:2].mean().to_numpy()\n",
    "mean_nonown = nonowndata.iloc[:,0:2].mean().to_numpy()\n",
    "\n",
    "cov_own = owndata.iloc[:,0:2].cov().to_numpy()\n",
    "cov_nonown = nonowndata.iloc[:,0:2].cov().to_numpy()\n",
    "\n",
    "# compute the projected space\n",
    "B = np.outer((mean_own - mean_nonown),(mean_own - mean_nonown).T)\n",
    "\n",
    "S = cov_own+cov_nonown\n",
    "\n",
    "inv_S = np.linalg.inv(S)\n",
    "\n",
    "S_B = np.multiply(inv_S,B)\n",
    "\n",
    "values, W = np.linalg.eig(S_B)\n",
    "\n",
    "W = W[:,0]\n",
    "W\n"
   ]
  },
  {
   "cell_type": "code",
   "execution_count": 60,
   "metadata": {},
   "outputs": [
    {
     "data": {
      "text/plain": [
       "32.439505834266114"
      ]
     },
     "execution_count": 60,
     "metadata": {},
     "output_type": "execute_result"
    }
   ],
   "source": [
    "proj_mean_own = np.multiply(W, mean_own)\n",
    "proj_mean_nonown = np.multiply(W, mean_nonown)\n",
    "\n",
    "# compute bias\n",
    "W0 = np.mean([proj_mean_own,proj_mean_nonown])\n",
    "W0"
   ]
  },
  {
   "cell_type": "code",
   "execution_count": 61,
   "metadata": {},
   "outputs": [],
   "source": [
    "def disc(W,x,W0):\n",
    "    Y = W[0] * x.iloc[:,0] + W[1] * x.iloc[:,1]\n",
    "    Pred_Y = np.where(Y >= W0, 'Owner','Nonowner')\n",
    "    return Pred_Y\n",
    "\n",
    "Pred_Y = disc(W,mydata.iloc[:,0:2],W0)"
   ]
  },
  {
   "cell_type": "code",
   "execution_count": 62,
   "metadata": {},
   "outputs": [
    {
     "name": "stdout",
     "output_type": "stream",
     "text": [
      "['Owner' 'Owner' 'Owner' 'Owner' 'Owner' 'Owner' 'Owner' 'Owner' 'Owner'\n",
      " 'Owner' 'Owner' 'Owner' 'Owner' 'Owner' 'Owner' 'Owner' 'Owner' 'Owner'\n",
      " 'Owner' 'Owner' 'Owner' 'Owner' 'Owner' 'Owner']\n"
     ]
    }
   ],
   "source": [
    "print(Pred_Y)"
   ]
  },
  {
   "cell_type": "markdown",
   "metadata": {},
   "source": [
    "### We demonstrate how to apply SVM for classification"
   ]
  },
  {
   "cell_type": "code",
   "execution_count": 72,
   "metadata": {},
   "outputs": [],
   "source": [
    "from sklearn import svm"
   ]
  },
  {
   "cell_type": "code",
   "execution_count": 73,
   "metadata": {},
   "outputs": [
    {
     "data": {
      "text/html": [
       "<div>\n",
       "<style scoped>\n",
       "    .dataframe tbody tr th:only-of-type {\n",
       "        vertical-align: middle;\n",
       "    }\n",
       "\n",
       "    .dataframe tbody tr th {\n",
       "        vertical-align: top;\n",
       "    }\n",
       "\n",
       "    .dataframe thead th {\n",
       "        text-align: right;\n",
       "    }\n",
       "</style>\n",
       "<table border=\"1\" class=\"dataframe\">\n",
       "  <thead>\n",
       "    <tr style=\"text-align: right;\">\n",
       "      <th></th>\n",
       "      <th>x1</th>\n",
       "      <th>x2</th>\n",
       "      <th>y</th>\n",
       "    </tr>\n",
       "  </thead>\n",
       "  <tbody>\n",
       "    <tr>\n",
       "      <td>0</td>\n",
       "      <td>3.50</td>\n",
       "      <td>4.25</td>\n",
       "      <td>1</td>\n",
       "    </tr>\n",
       "    <tr>\n",
       "      <td>1</td>\n",
       "      <td>4.00</td>\n",
       "      <td>3.00</td>\n",
       "      <td>1</td>\n",
       "    </tr>\n",
       "    <tr>\n",
       "      <td>2</td>\n",
       "      <td>4.00</td>\n",
       "      <td>4.00</td>\n",
       "      <td>1</td>\n",
       "    </tr>\n",
       "    <tr>\n",
       "      <td>3</td>\n",
       "      <td>4.50</td>\n",
       "      <td>1.75</td>\n",
       "      <td>1</td>\n",
       "    </tr>\n",
       "    <tr>\n",
       "      <td>4</td>\n",
       "      <td>4.90</td>\n",
       "      <td>4.50</td>\n",
       "      <td>1</td>\n",
       "    </tr>\n",
       "    <tr>\n",
       "      <td>5</td>\n",
       "      <td>5.00</td>\n",
       "      <td>4.00</td>\n",
       "      <td>1</td>\n",
       "    </tr>\n",
       "    <tr>\n",
       "      <td>6</td>\n",
       "      <td>5.50</td>\n",
       "      <td>2.50</td>\n",
       "      <td>1</td>\n",
       "    </tr>\n",
       "    <tr>\n",
       "      <td>7</td>\n",
       "      <td>5.50</td>\n",
       "      <td>3.50</td>\n",
       "      <td>1</td>\n",
       "    </tr>\n",
       "    <tr>\n",
       "      <td>8</td>\n",
       "      <td>0.50</td>\n",
       "      <td>1.50</td>\n",
       "      <td>-1</td>\n",
       "    </tr>\n",
       "    <tr>\n",
       "      <td>9</td>\n",
       "      <td>1.00</td>\n",
       "      <td>2.50</td>\n",
       "      <td>-1</td>\n",
       "    </tr>\n",
       "    <tr>\n",
       "      <td>10</td>\n",
       "      <td>1.25</td>\n",
       "      <td>0.50</td>\n",
       "      <td>-1</td>\n",
       "    </tr>\n",
       "    <tr>\n",
       "      <td>11</td>\n",
       "      <td>1.50</td>\n",
       "      <td>1.50</td>\n",
       "      <td>-1</td>\n",
       "    </tr>\n",
       "    <tr>\n",
       "      <td>12</td>\n",
       "      <td>2.00</td>\n",
       "      <td>2.00</td>\n",
       "      <td>-1</td>\n",
       "    </tr>\n",
       "    <tr>\n",
       "      <td>13</td>\n",
       "      <td>2.50</td>\n",
       "      <td>0.75</td>\n",
       "      <td>-1</td>\n",
       "    </tr>\n",
       "  </tbody>\n",
       "</table>\n",
       "</div>"
      ],
      "text/plain": [
       "      x1    x2  y\n",
       "0   3.50  4.25  1\n",
       "1   4.00  3.00  1\n",
       "2   4.00  4.00  1\n",
       "3   4.50  1.75  1\n",
       "4   4.90  4.50  1\n",
       "5   5.00  4.00  1\n",
       "6   5.50  2.50  1\n",
       "7   5.50  3.50  1\n",
       "8   0.50  1.50 -1\n",
       "9   1.00  2.50 -1\n",
       "10  1.25  0.50 -1\n",
       "11  1.50  1.50 -1\n",
       "12  2.00  2.00 -1\n",
       "13  2.50  0.75 -1"
      ]
     },
     "execution_count": 73,
     "metadata": {},
     "output_type": "execute_result"
    }
   ],
   "source": [
    "# The data used in the lecture note\n",
    "\n",
    "d = {'x1': [3.5,4,4,4.5,4.9,5,5.5,5.5,0.5,1,1.25,1.5,2,2.5], 'x2': [4.25,3,4,1.75,4.5,4,2.5,3.5,1.5,2.5,0.5,1.5,2,0.75],\n",
    "     'y' : [1,1,1,1,1,1,1,1,-1,-1,-1,-1,-1,-1]}\n",
    "mydata = pd.DataFrame(d)\n",
    "mydata"
   ]
  },
  {
   "cell_type": "code",
   "execution_count": 74,
   "metadata": {},
   "outputs": [
    {
     "data": {
      "text/html": [
       "<div>\n",
       "<style scoped>\n",
       "    .dataframe tbody tr th:only-of-type {\n",
       "        vertical-align: middle;\n",
       "    }\n",
       "\n",
       "    .dataframe tbody tr th {\n",
       "        vertical-align: top;\n",
       "    }\n",
       "\n",
       "    .dataframe thead th {\n",
       "        text-align: right;\n",
       "    }\n",
       "</style>\n",
       "<table border=\"1\" class=\"dataframe\">\n",
       "  <thead>\n",
       "    <tr style=\"text-align: right;\">\n",
       "      <th></th>\n",
       "      <th>x1</th>\n",
       "      <th>x2</th>\n",
       "      <th>y</th>\n",
       "    </tr>\n",
       "  </thead>\n",
       "  <tbody>\n",
       "    <tr>\n",
       "      <td>0</td>\n",
       "      <td>4</td>\n",
       "      <td>2</td>\n",
       "      <td>1</td>\n",
       "    </tr>\n",
       "    <tr>\n",
       "      <td>1</td>\n",
       "      <td>2</td>\n",
       "      <td>3</td>\n",
       "      <td>1</td>\n",
       "    </tr>\n",
       "    <tr>\n",
       "      <td>2</td>\n",
       "      <td>3</td>\n",
       "      <td>2</td>\n",
       "      <td>-1</td>\n",
       "    </tr>\n",
       "    <tr>\n",
       "      <td>3</td>\n",
       "      <td>5</td>\n",
       "      <td>3</td>\n",
       "      <td>-1</td>\n",
       "    </tr>\n",
       "  </tbody>\n",
       "</table>\n",
       "</div>"
      ],
      "text/plain": [
       "   x1  x2  y\n",
       "0   4   2  1\n",
       "1   2   3  1\n",
       "2   3   2 -1\n",
       "3   5   3 -1"
      ]
     },
     "execution_count": 74,
     "metadata": {},
     "output_type": "execute_result"
    }
   ],
   "source": [
    "d2 = {'x1': [4,2,3,5], 'x2': [2,3,2,3], 'y' : [1,1,-1,-1]}\n",
    "testdata = pd.DataFrame(d2)\n",
    "testdata"
   ]
  },
  {
   "cell_type": "code",
   "execution_count": 75,
   "metadata": {},
   "outputs": [],
   "source": [
    "X = mydata.drop(['y'],axis= 1)\n",
    "y = mydata['y']"
   ]
  },
  {
   "cell_type": "code",
   "execution_count": 76,
   "metadata": {},
   "outputs": [],
   "source": [
    "clf = svm.SVC(kernel=\"linear\").fit(X, y)\n",
    "sv = clf.support_vectors_"
   ]
  },
  {
   "cell_type": "code",
   "execution_count": 77,
   "metadata": {},
   "outputs": [
    {
     "name": "stdout",
     "output_type": "stream",
     "text": [
      "[[2.   2.  ]\n",
      " [2.5  0.75]\n",
      " [4.5  1.75]]\n"
     ]
    }
   ],
   "source": [
    "print(sv)"
   ]
  },
  {
   "cell_type": "code",
   "execution_count": 78,
   "metadata": {},
   "outputs": [
    {
     "name": "stdout",
     "output_type": "stream",
     "text": [
      "[ 1 -1 -1  1]\n"
     ]
    }
   ],
   "source": [
    "print(clf.predict(testdata.iloc[:,0:2]))"
   ]
  },
  {
   "cell_type": "code",
   "execution_count": 83,
   "metadata": {},
   "outputs": [],
   "source": [
    "# Another example of large data\n",
    "mydata = pd.read_csv('UniversalBank.csv')\n",
    "cols = [0,4]\n",
    "mydata = mydata.drop(mydata.columns[cols], axis=1)\n",
    "X = mydata.drop(['Personal Loan'],axis= 1)\n",
    "y = mydata['Personal Loan']\n",
    "\n",
    "X_train, X_test, y_train, y_test = train_test_split(X, y, test_size=0.30, random_state=42)\n",
    "\n",
    "clf = svm.SVC(kernel=\"linear\").fit(X_train, y_train)\n",
    "sv = clf.support_vectors_"
   ]
  }
 ],
 "metadata": {
  "kernelspec": {
   "display_name": "Python 3",
   "language": "python",
   "name": "python3"
  },
  "language_info": {
   "codemirror_mode": {
    "name": "ipython",
    "version": 3
   },
   "file_extension": ".py",
   "mimetype": "text/x-python",
   "name": "python",
   "nbconvert_exporter": "python",
   "pygments_lexer": "ipython3",
   "version": "3.7.4"
  }
 },
 "nbformat": 4,
 "nbformat_minor": 2
}
