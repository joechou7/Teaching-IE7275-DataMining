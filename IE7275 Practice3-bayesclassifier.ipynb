{
 "cells": [
  {
   "cell_type": "markdown",
   "metadata": {},
   "source": [
    "# IE7275 - Bayesian Classification"
   ]
  },
  {
   "cell_type": "markdown",
   "metadata": {},
   "source": [
    "### We demonstrate how to apply Bayes Classifier for Classification of Iris data\n",
    "\n",
    "By Yilin Yin and Chun-An Chou"
   ]
  },
  {
   "cell_type": "code",
   "execution_count": 1,
   "metadata": {},
   "outputs": [],
   "source": [
    "from sklearn import datasets\n",
    "import numpy as np\n",
    "import pandas as pd\n",
    "from numpy.linalg import eig\n",
    "from scipy.stats import multivariate_normal\n",
    "from sklearn.naive_bayes import GaussianNB"
   ]
  },
  {
   "cell_type": "code",
   "execution_count": 2,
   "metadata": {},
   "outputs": [],
   "source": [
    "# load the iris dataset from the cloud database\n",
    "iris = datasets.load_iris()\n",
    "data1 = pd.DataFrame(data= np.c_[iris['data'], iris['target']],\n",
    "                     columns= iris['feature_names'] + ['target'])"
   ]
  },
  {
   "cell_type": "code",
   "execution_count": 3,
   "metadata": {},
   "outputs": [
    {
     "data": {
      "text/plain": [
       "1.0    100\n",
       "0.0     50\n",
       "Name: target, dtype: int64"
      ]
     },
     "execution_count": 3,
     "metadata": {},
     "output_type": "execute_result"
    }
   ],
   "source": [
    "cols = [2,3]\n",
    "data1.drop(data1.columns[cols],axis=1,inplace=True)\n",
    "\n",
    "data1.target.value_counts()\n",
    "data1.target = data1.target.replace(2,1)\n",
    "data1.target.value_counts()"
   ]
  },
  {
   "cell_type": "code",
   "execution_count": 4,
   "metadata": {
    "scrolled": true
   },
   "outputs": [],
   "source": [
    "# prior prob\n",
    "pp_0 = data1.target.value_counts()[0]/len(data1.target)\n",
    "pp_1 = data1.target.value_counts()[1]/len(data1.target)"
   ]
  },
  {
   "cell_type": "code",
   "execution_count": 5,
   "metadata": {},
   "outputs": [],
   "source": [
    "# Likelihood (Assume data are normally distributed) \n",
    "\n",
    "# sample mean\n",
    "d0 = data1[data1.target == 0]\n",
    "d1 = data1[data1.target == 1]\n",
    "mu0 = [np.mean(d0.iloc[:,0]),np.mean(d0.iloc[:,1])]\n",
    "mu1 = [np.mean(d1.iloc[:,0]),np.mean(d1.iloc[:,1])]\n",
    "\n",
    "# sample covariance\n",
    "cov1 = d1.cov()\n",
    "cov1 = cov1.iloc[0:2,0:2]\n",
    "\n",
    "cov0 = d0.cov()\n",
    "cov0 = cov0.iloc[0:2,0:2]"
   ]
  },
  {
   "cell_type": "code",
   "execution_count": 6,
   "metadata": {
    "scrolled": true
   },
   "outputs": [
    {
     "name": "stdout",
     "output_type": "stream",
     "text": [
      "class of [6.75,4.25] is 1\n"
     ]
    }
   ],
   "source": [
    "#classification\n",
    "x =[6.75,4.25]\n",
    "x0 = multivariate_normal.pdf(x,mu0, np.array(cov0))\n",
    "\n",
    "x1 = multivariate_normal.pdf(x,mu1, np.array(cov1))\n",
    "\n",
    "post0 = x0 * pp_0\n",
    "post1 = x1 * pp_1\n",
    "\n",
    "if post1 > post0:\n",
    "    print('class of [6.75,4.25] is 1')\n",
    "else:\n",
    "    print('class of [6.75,4.25] is 0')\n"
   ]
  },
  {
   "cell_type": "markdown",
   "metadata": {},
   "source": [
    "### We demonstrate how to apply Bayes Classifier for Classification of Iris discretized data"
   ]
  },
  {
   "cell_type": "code",
   "execution_count": 35,
   "metadata": {},
   "outputs": [
    {
     "name": "stdout",
     "output_type": "stream",
     "text": [
      "[0.92461872 0.05306648 0.01710261 0.00521218]\n"
     ]
    }
   ],
   "source": [
    "info_percent = Evalues/sum(Evalues)\n",
    "print(info_percent)"
   ]
  },
  {
   "cell_type": "markdown",
   "metadata": {},
   "source": [
    "### We confirm the total information in data are the same before and after PCA"
   ]
  },
  {
   "cell_type": "code",
   "execution_count": 7,
   "metadata": {},
   "outputs": [],
   "source": [
    "# Data discritization\n",
    "\n",
    "data2 = pd.DataFrame(data= np.c_[iris['data'], iris['target']],\n",
    "                     columns= iris['feature_names'] + ['target'])\n",
    "data2.columns[0]\n",
    "\n",
    "conditions1 = [\n",
    "    (data2['sepal length (cm)'] <= 5.2),\n",
    "    (data2['sepal length (cm)'] > 5.2) & (data2['sepal length (cm)'] <= 6.1),\n",
    "    (data2['sepal length (cm)'] > 6.1) & (data2['sepal length (cm)'] <= 7.0),\n",
    "    (data2['sepal length (cm)'] > 7)\n",
    "    ]\n",
    "\n",
    "values1 = ['Very Short', 'Short', 'Long', 'Very Long']\n",
    "\n",
    "data2['sepal_length'] = np.select(conditions1, values1)\n",
    "\n",
    "conditions2 = [\n",
    "    (data2['sepal width (cm)'] <= 2.8),\n",
    "    (data2['sepal width (cm)'] > 2.8) & (data2['sepal width (cm)'] <= 3.6),\n",
    "    (data2['sepal width (cm)'] > 3.6)\n",
    "    ]\n",
    "\n",
    "values2 = ['Short', 'Medium', 'Long']\n",
    "\n",
    "data2['sepal_width'] = np.select(conditions2, values2)\n"
   ]
  },
  {
   "cell_type": "code",
   "execution_count": 8,
   "metadata": {},
   "outputs": [
    {
     "name": "stdout",
     "output_type": "stream",
     "text": [
      "class of [6.75,4.25] is 0\n"
     ]
    }
   ],
   "source": [
    "# Naive Bayes Classification\n",
    "\n",
    "x = ['Long','Long']\n",
    "\n",
    "N_d0 = data2[data2.target == 0]\n",
    "N_d1 = data2[data2.target == 1]\n",
    "\n",
    "#conditional prob for length 0\n",
    "if len(N_d0[N_d0.sepal_length == x[0]]) != 0:\n",
    "    p_l0 = (len(N_d0[N_d0.sepal_length == x[0]])) / len(N_d0.sepal_length)\n",
    "else:\n",
    "    p_l0 = (len(N_d0[N_d0.sepal_length == x[0]])+1)/(len(N_d0.sepal_length)+len(values1))\n",
    "\n",
    "\n",
    "#conditional prob for width 0\n",
    "if len(N_d0[N_d0.sepal_length == x[1]]) != 0:\n",
    "    p_w0 = (len(N_d0[N_d0.sepal_width == x[1]])) / len(N_d0.sepal_width)\n",
    "else:\n",
    "    p_w0 = (len(N_d0[N_d0.sepal_width == x[1]])+1)/(len(N_d0.sepal_width)+len(values2))\n",
    "\n",
    "\n",
    "#conditional prob for length 1\n",
    "if len(N_d1[N_d1.sepal_length == x[0]]) != 0:\n",
    "    p_l1 = (len(N_d1[N_d1.sepal_length == x[0]])) / len(N_d1.sepal_length)\n",
    "else:\n",
    "    p_l1 = (len(N_d1[N_d1.sepal_length == x[0]])+1)/(len(N_d1.sepal_length)+len(values1))\n",
    "\n",
    "\n",
    "#conditional prob for width 1\n",
    "if len(N_d1[N_d1.sepal_length == x[1]]) != 0:\n",
    "    p_w1 = (len(N_d1[N_d1.sepal_width == x[1]])) / len(N_d1.sepal_width)\n",
    "else:\n",
    "    p_w1 = (len(N_d1[N_d1.sepal_width == x[1]])+1)/(len(N_d1.sepal_width)+len(values2))\n",
    "\n",
    "\n",
    "#post prob\n",
    "\n",
    "post0 = p_l0*p_w0*pp_0\n",
    "post1 = p_l1*p_w1*pp_1\n",
    "\n",
    "if post1 > post0:\n",
    "    print('class of [6.75,4.25] is 1')\n",
    "else:\n",
    "    print('class of [6.75,4.25] is 0')\n"
   ]
  },
  {
   "cell_type": "markdown",
   "metadata": {},
   "source": [
    "### We verify the Bayes classifier results with the Python library"
   ]
  },
  {
   "cell_type": "code",
   "execution_count": 11,
   "metadata": {},
   "outputs": [
    {
     "name": "stdout",
     "output_type": "stream",
     "text": [
      "class of [6.75,4.25] is[1.]\n"
     ]
    }
   ],
   "source": [
    "x = [[6.75, 4.25]]\n",
    "gnb = GaussianNB()\n",
    "X_train = np.array(data1.iloc[:,0:2])\n",
    "y_train =  np.array(data1.target)\n",
    "y_pred = gnb.fit(X_train, y_train).predict(x)\n",
    "\n",
    "print('class of [6.75,4.25] is'+ str(y_pred))\n"
   ]
  }
 ],
 "metadata": {
  "kernelspec": {
   "display_name": "Python 3",
   "language": "python",
   "name": "python3"
  },
  "language_info": {
   "codemirror_mode": {
    "name": "ipython",
    "version": 3
   },
   "file_extension": ".py",
   "mimetype": "text/x-python",
   "name": "python",
   "nbconvert_exporter": "python",
   "pygments_lexer": "ipython3",
   "version": "3.7.4"
  }
 },
 "nbformat": 4,
 "nbformat_minor": 2
}
